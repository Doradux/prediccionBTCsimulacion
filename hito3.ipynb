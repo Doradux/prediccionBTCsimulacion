{
 "cells": [
  {
   "cell_type": "markdown",
   "id": "3f8c6177",
   "metadata": {},
   "source": [
    "# Subir el modelo a `HugginFace`"
   ]
  },
  {
   "cell_type": "markdown",
   "id": "63bfe866",
   "metadata": {},
   "source": [
    "### Subir `.h5`\n",
    "El primer paso ha sido subir en la seccion `Models` el modelo que guardamos durante nuestras pruebas para conseguir el mejor modelo."
   ]
  },
  {
   "cell_type": "markdown",
   "id": "1acb6937",
   "metadata": {},
   "source": [
    "![Model subido](https://i.imgur.com/KeD1rRZ.png)"
   ]
  },
  {
   "cell_type": "markdown",
   "id": "258c78f7",
   "metadata": {},
   "source": [
    "### Crear `Space`\n",
    "Luego hemos creado un Space desde el que llamamos al modelo que hemos subido y mostramos con `Gradio` una interfaz para hacerle peticiones.\n",
    "\n",
    "![Space](https://i.imgur.com/L1Uk9BN.png)\n",
    "\n",
    "Dentro del Space tenemos subidos nuestros `requirements` que ajustan las versiones de tensorflow, keras y numpy a unas versiones compatibles con nuestro modelo y un `app.py`.\n",
    "\n",
    "![App.py](https://i.imgur.com/Y6axTbJ.png)\n",
    "\n",
    "En el codigo de `app.py` llamamos a nuestro modelo guardado en HuggingFace, luego le decimos el maximo y minimo valor de `BTC` que tenia nuestro csv para poder aplicarle el mismo escalado que utilizamos durante el entrenamiento del modelo (`MIN MAX`), y se le hace la prediccion sobre el modelo que hemos importado, esa lagica ocurre cuando rellenamos los campos de la interfaz que hemos creado con `Gradio`, en esos campos se pide al usuario 30 valores (precio BTC) de dias consecutivos y este tratara de predecir el dia siguiente."
   ]
  },
  {
   "cell_type": "markdown",
   "id": "aa2f7541",
   "metadata": {},
   "source": [
    "### Pruebas realizadas"
   ]
  },
  {
   "cell_type": "markdown",
   "id": "80ed5889",
   "metadata": {},
   "source": [
    "Hemos probado con secuencias de numeros descendentes, ascendentes, y nuevamente desdencentes pero valores mas pequenos"
   ]
  },
  {
   "cell_type": "markdown",
   "id": "dcec2caa",
   "metadata": {},
   "source": [
    "![Primer test HuggingFace](https://i.imgur.com/Lhx9lPG.png)\n",
    "\n",
    "![Segundo test HuggingFace](https://i.imgur.com/TniKGae.png)\n",
    "\n",
    "![Tercer test HuggingFace](https://i.imgur.com/ojI4M4H.png)"
   ]
  },
  {
   "cell_type": "markdown",
   "id": "2a3a86c1",
   "metadata": {},
   "source": [
    "Tambien hemos probado con datos que no ha visto nunca el modelo como son todos los numeros del 1 al 30 en orden, en el que el resultado es simplemente horrible\n",
    "\n",
    "![Cuarto test HuggingFace](https://i.imgur.com/k8DJ7P7.png)"
   ]
  }
 ],
 "metadata": {
  "language_info": {
   "name": "python"
  }
 },
 "nbformat": 4,
 "nbformat_minor": 5
}
