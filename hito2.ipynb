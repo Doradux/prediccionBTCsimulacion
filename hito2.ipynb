{
 "cells": [
  {
   "cell_type": "markdown",
   "id": "fb1c5455",
   "metadata": {},
   "source": [
    "<h2 style=\"color:darkcyan;\">1. Creación, entrenamiento y validación del modelo: </h2>\n",
    "\n",
    "Para este apartado, empezaremos creando varios modelos, para ello hemos escogido las siguientes opciones:\n",
    "\n",
    "* Modelo red neuronal con GridSearch para busqueda de mejor conbinación\n",
    "\n",
    "* Modelo LSTM para la correcta predicción del precio en los próximos 10 dias\n",
    "\n",
    "* Modelo de regresión lineal básico \n",
    "\n",
    "Para todos ellos mostraremos sus metricas de validación,etc.\n",
    "\n",
    "Estos modelos han sido creados y entrenados usando GPU con las siguientes versiones:\n",
    "\n",
    "* Python 3.10\n",
    "* Tensorflow 2.13.0\n",
    "* Cuda toolkit 11.8\n",
    "* CuDNN 8.9.7\n"
   ]
  },
  {
   "cell_type": "markdown",
   "id": "3bea9849",
   "metadata": {},
   "source": [
    "<h2 style=\"color:darkcyan;\">2. Red neuronal con GridSearch </h2>\n",
    "\n",
    "Vamos a crear un modelo de red neuronal probando distintos hiperparametros, para ello usaremos una busqueda automatica usando la funcion tuner.search\n",
    "\n",
    "* Primero realizamos los import necesarios para los modelos"
   ]
  },
  {
   "cell_type": "code",
   "execution_count": 1,
   "id": "be55d4f4",
   "metadata": {},
   "outputs": [
    {
     "name": "stderr",
     "output_type": "stream",
     "text": [
      "2025-05-26 01:23:26.165874: I tensorflow/core/util/port.cc:110] oneDNN custom operations are on. You may see slightly different numerical results due to floating-point round-off errors from different computation orders. To turn them off, set the environment variable `TF_ENABLE_ONEDNN_OPTS=0`.\n",
      "2025-05-26 01:23:26.194762: I tensorflow/core/platform/cpu_feature_guard.cc:182] This TensorFlow binary is optimized to use available CPU instructions in performance-critical operations.\n",
      "To enable the following instructions: AVX2 AVX_VNNI FMA, in other operations, rebuild TensorFlow with the appropriate compiler flags.\n",
      "2025-05-26 01:23:26.638775: W tensorflow/compiler/tf2tensorrt/utils/py_utils.cc:38] TF-TRT Warning: Could not find TensorRT\n"
     ]
    }
   ],
   "source": [
    "import pandas as pd\n",
    "import numpy as np\n",
    "from sklearn.model_selection import train_test_split\n",
    "from sklearn.metrics import mean_absolute_error, mean_squared_error, r2_score\n",
    "import tensorflow as tf\n",
    "from tensorflow import keras\n",
    "from tensorflow.keras import layers\n",
    "import keras_tuner as kt\n",
    "\n",
    "import matplotlib.pyplot as plt\n",
    "from tensorflow.keras.models import Sequential\n",
    "from tensorflow.keras.layers import LSTM, Dense\n",
    "from sklearn.preprocessing import MinMaxScaler\n",
    "from datetime import timedelta\n",
    "\n",
    "from sklearn.linear_model import LinearRegression"
   ]
  },
  {
   "cell_type": "markdown",
   "id": "61fa9f5d",
   "metadata": {},
   "source": [
    "Ahora cargaremos los datos del `.csv` generado en el hito anterior, generando los datos de entrenamiento y validación"
   ]
  },
  {
   "cell_type": "code",
   "execution_count": 2,
   "id": "2df9f18f",
   "metadata": {},
   "outputs": [],
   "source": [
    "df = pd.read_csv(\"btc_datos_escalados.csv\")\n",
    "X = df.drop(columns=['precio_btc', 'timestamp']).values\n",
    "y = df['precio_btc'].values\n",
    "X_train, X_test, y_train, y_test = train_test_split(X, y, test_size=0.2, random_state=42)"
   ]
  },
  {
   "cell_type": "markdown",
   "id": "a14b6e9b",
   "metadata": {},
   "source": [
    "A continuación creamos el modelo base a usar con las siguientes características:\n",
    "\n",
    "* Número de neuronas en la primera capa (32, 64, 128)\n",
    "* Activaciones ('relu', 'tanh')\n",
    "* Optimizers ('adam', 'rmsprop')"
   ]
  },
  {
   "cell_type": "code",
   "execution_count": 3,
   "id": "8128b833",
   "metadata": {},
   "outputs": [],
   "source": [
    "def build_model(hp):\n",
    "    model = keras.Sequential()\n",
    "    # Neuronas\n",
    "    neurons = hp.Choice('neurons', values=[32, 64, 128])\n",
    "    # Activación\n",
    "    activation = hp.Choice('activation', values=['relu', 'tanh'])\n",
    "    # Optimizers\n",
    "    optimizer_choice = hp.Choice('optimizer', values=['adam', 'rmsprop'])\n",
    "    \n",
    "    model.add(layers.Dense(neurons, activation=activation, input_shape=(X_train.shape[1],)))\n",
    "    model.add(layers.Dense(neurons, activation=activation))\n",
    "    model.add(layers.Dense(1))\n",
    "    \n",
    "    optimizer = None\n",
    "    if optimizer_choice == 'adam':\n",
    "        optimizer = keras.optimizers.Adam()\n",
    "    else:\n",
    "        optimizer = keras.optimizers.RMSprop()\n",
    "    \n",
    "    model.compile(optimizer=optimizer, loss='mean_squared_error')\n",
    "    return model"
   ]
  },
  {
   "cell_type": "markdown",
   "id": "08ffcd09",
   "metadata": {},
   "source": [
    "Ahora es momento de crear el tuner para la busqueda del mejor modelo, hemos usado un tuner basico con la funcion GridSearch"
   ]
  },
  {
   "cell_type": "code",
   "execution_count": 4,
   "id": "579bbc11",
   "metadata": {},
   "outputs": [
    {
     "name": "stdout",
     "output_type": "stream",
     "text": [
      "INFO:tensorflow:Reloading Tuner from my_dir/btc_price_tuning/tuner0.json\n"
     ]
    }
   ],
   "source": [
    "tuner = kt.GridSearch(\n",
    "    build_model,\n",
    "    objective='val_loss',\n",
    "    max_trials=12,  # 2 (optimizers) * 2 (activations) * 3 (neurons) = 12 combinaciones\n",
    "    executions_per_trial=1,\n",
    "    directory='my_dir',\n",
    "    project_name='btc_price_tuning'\n",
    ")"
   ]
  },
  {
   "cell_type": "markdown",
   "id": "708db6b8",
   "metadata": {},
   "source": [
    "Por último llamamos a la busqueda del tuner para encontrar los mejores resultados y guardamos el mejor modelo"
   ]
  },
  {
   "cell_type": "code",
   "execution_count": 5,
   "id": "31567099",
   "metadata": {},
   "outputs": [
    {
     "name": "stdout",
     "output_type": "stream",
     "text": [
      "INFO:tensorflow:Oracle triggered exit\n"
     ]
    },
    {
     "name": "stderr",
     "output_type": "stream",
     "text": [
      "2025-05-26 01:23:36.877152: I tensorflow/compiler/xla/stream_executor/cuda/cuda_gpu_executor.cc:995] successful NUMA node read from SysFS had negative value (-1), but there must be at least one NUMA node, so returning NUMA node zero. See more at https://github.com/torvalds/linux/blob/v6.0/Documentation/ABI/testing/sysfs-bus-pci#L344-L355\n",
      "2025-05-26 01:23:36.942110: I tensorflow/compiler/xla/stream_executor/cuda/cuda_gpu_executor.cc:995] successful NUMA node read from SysFS had negative value (-1), but there must be at least one NUMA node, so returning NUMA node zero. See more at https://github.com/torvalds/linux/blob/v6.0/Documentation/ABI/testing/sysfs-bus-pci#L344-L355\n",
      "2025-05-26 01:23:36.944075: I tensorflow/compiler/xla/stream_executor/cuda/cuda_gpu_executor.cc:995] successful NUMA node read from SysFS had negative value (-1), but there must be at least one NUMA node, so returning NUMA node zero. See more at https://github.com/torvalds/linux/blob/v6.0/Documentation/ABI/testing/sysfs-bus-pci#L344-L355\n",
      "2025-05-26 01:23:36.946286: I tensorflow/compiler/xla/stream_executor/cuda/cuda_gpu_executor.cc:995] successful NUMA node read from SysFS had negative value (-1), but there must be at least one NUMA node, so returning NUMA node zero. See more at https://github.com/torvalds/linux/blob/v6.0/Documentation/ABI/testing/sysfs-bus-pci#L344-L355\n",
      "2025-05-26 01:23:36.949519: I tensorflow/compiler/xla/stream_executor/cuda/cuda_gpu_executor.cc:995] successful NUMA node read from SysFS had negative value (-1), but there must be at least one NUMA node, so returning NUMA node zero. See more at https://github.com/torvalds/linux/blob/v6.0/Documentation/ABI/testing/sysfs-bus-pci#L344-L355\n",
      "2025-05-26 01:23:36.950903: I tensorflow/compiler/xla/stream_executor/cuda/cuda_gpu_executor.cc:995] successful NUMA node read from SysFS had negative value (-1), but there must be at least one NUMA node, so returning NUMA node zero. See more at https://github.com/torvalds/linux/blob/v6.0/Documentation/ABI/testing/sysfs-bus-pci#L344-L355\n",
      "2025-05-26 01:23:37.045246: I tensorflow/compiler/xla/stream_executor/cuda/cuda_gpu_executor.cc:995] successful NUMA node read from SysFS had negative value (-1), but there must be at least one NUMA node, so returning NUMA node zero. See more at https://github.com/torvalds/linux/blob/v6.0/Documentation/ABI/testing/sysfs-bus-pci#L344-L355\n",
      "2025-05-26 01:23:37.046321: I tensorflow/compiler/xla/stream_executor/cuda/cuda_gpu_executor.cc:995] successful NUMA node read from SysFS had negative value (-1), but there must be at least one NUMA node, so returning NUMA node zero. See more at https://github.com/torvalds/linux/blob/v6.0/Documentation/ABI/testing/sysfs-bus-pci#L344-L355\n",
      "2025-05-26 01:23:37.047288: I tensorflow/compiler/xla/stream_executor/cuda/cuda_gpu_executor.cc:995] successful NUMA node read from SysFS had negative value (-1), but there must be at least one NUMA node, so returning NUMA node zero. See more at https://github.com/torvalds/linux/blob/v6.0/Documentation/ABI/testing/sysfs-bus-pci#L344-L355\n",
      "2025-05-26 01:23:37.048216: I tensorflow/core/common_runtime/gpu/gpu_device.cc:1639] Created device /job:localhost/replica:0/task:0/device:GPU:0 with 5716 MB memory:  -> device: 0, name: NVIDIA GeForce RTX 4060, pci bus id: 0000:01:00.0, compute capability: 8.9\n"
     ]
    }
   ],
   "source": [
    "tuner.search(X_train, y_train, epochs=100, batch_size=32, validation_split=0.2, verbose=1)\n",
    "\n",
    "best_model = tuner.get_best_models(num_models=1)[0]"
   ]
  },
  {
   "cell_type": "markdown",
   "id": "0c359cbf",
   "metadata": {},
   "source": [
    "Por último, evaluamos el modelo con los datos de test"
   ]
  },
  {
   "cell_type": "code",
   "execution_count": 6,
   "id": "558b8310",
   "metadata": {},
   "outputs": [
    {
     "name": "stdout",
     "output_type": "stream",
     "text": [
      "51/51 [==============================] - 0s 571us/step\n"
     ]
    },
    {
     "name": "stderr",
     "output_type": "stream",
     "text": [
      "2025-05-26 01:23:39.247049: I tensorflow/compiler/xla/stream_executor/cuda/cuda_blas.cc:606] TensorFloat-32 will be used for the matrix multiplication. This will only be logged once.\n"
     ]
    }
   ],
   "source": [
    "y_pred = best_model.predict(X_test).flatten()"
   ]
  },
  {
   "cell_type": "markdown",
   "id": "287669fb",
   "metadata": {},
   "source": [
    "<h3 style=\"color:darkcyan;\">2.1. Resultados validación</h3>\n",
    "\n",
    "Y para acabar mostramos los resultados de las metricas obtenidas"
   ]
  },
  {
   "cell_type": "code",
   "execution_count": 7,
   "id": "26e7825b",
   "metadata": {},
   "outputs": [
    {
     "name": "stdout",
     "output_type": "stream",
     "text": [
      "Mejores hiperparámetros encontrados:\n",
      "{'neurons': 128, 'activation': 'relu', 'optimizer': 'rmsprop'}\n",
      "\n",
      "Métricas del mejor modelo:\n",
      "MAE: 1580.05\n",
      "RMSE: 2117.38\n",
      "R²: 0.9883\n"
     ]
    }
   ],
   "source": [
    "mae = mean_absolute_error(y_test, y_pred)\n",
    "rmse = np.sqrt(mean_squared_error(y_test, y_pred))\n",
    "r2 = r2_score(y_test, y_pred)\n",
    "\n",
    "print(\"Mejores hiperparámetros encontrados:\")\n",
    "print(tuner.get_best_hyperparameters(1)[0].values)\n",
    "\n",
    "print(\"\\nMétricas del mejor modelo:\")\n",
    "print(f\"MAE: {mae:.2f}\")\n",
    "print(f\"RMSE: {rmse:.2f}\")\n",
    "print(f\"R²: {r2:.4f}\")"
   ]
  },
  {
   "cell_type": "markdown",
   "id": "6de453bc",
   "metadata": {},
   "source": [
    "* Despues de varios entrenamientos y comparaciones usadas por `GridSearch`, nos devuelve el modelo con mejores hiperparámetros"
   ]
  },
  {
   "cell_type": "markdown",
   "id": "cf4fede4",
   "metadata": {},
   "source": [
    "### Resultados\n",
    "\n",
    "* Como podemos observar la mejor combinación obtenida `{'neurons': 128, 'activation': 'relu', 'optimizer': 'rmsprop'}` \n",
    "\n",
    "* Tambien observamos unas metricas bastante decentes para la red neuronal, con un R cuadrado de 0,988 y un margen de error en el precio de 2117.38€"
   ]
  },
  {
   "cell_type": "markdown",
   "id": "f50c3224",
   "metadata": {},
   "source": [
    "<h2 style=\"color:darkcyan;\">3. Modelo LSTM </h2>\n",
    "\n",
    "Vamos a crear un modelo LSTM (Long Short-Term Memory), ideal para series temporales como la que vamos a hacer para predecir los proximos 10 dias. Este modelo podrá aprender patrones en secuencia y predecir de forma más realista.\n",
    "\n",
    "* Para evitar problemas, volvemos a cargar los datos del `.csv` escalado del hito anterior"
   ]
  },
  {
   "cell_type": "code",
   "execution_count": 8,
   "id": "9d842692",
   "metadata": {},
   "outputs": [],
   "source": [
    "df = pd.read_csv(\"btc_datos_escalados.csv\")\n",
    "df['timestamp'] = pd.to_datetime(df['timestamp'])"
   ]
  },
  {
   "cell_type": "markdown",
   "id": "00fab0b5",
   "metadata": {},
   "source": [
    "Escalamos los precios con MinMaxScaler para mejor precisión"
   ]
  },
  {
   "cell_type": "code",
   "execution_count": 9,
   "id": "3473077d",
   "metadata": {},
   "outputs": [],
   "source": [
    "prices = df['precio_btc'].values.reshape(-1, 1)\n",
    "scaler = MinMaxScaler()\n",
    "scaled_prices = scaler.fit_transform(prices)"
   ]
  },
  {
   "cell_type": "markdown",
   "id": "f0d0187a",
   "metadata": {},
   "source": [
    "Ahora creamos las secuencias de los precios en un bucle"
   ]
  },
  {
   "cell_type": "code",
   "execution_count": 10,
   "id": "deaa54c7",
   "metadata": {},
   "outputs": [],
   "source": [
    "window_size = 30\n",
    "X, y = [], []\n",
    "\n",
    "for i in range(window_size, len(scaled_prices)):\n",
    "    X.append(scaled_prices[i - window_size:i, 0])\n",
    "    y.append(scaled_prices[i, 0])\n",
    "\n",
    "X, y = np.array(X), np.array(y)\n",
    "X = X.reshape((X.shape[0], X.shape[1], 1))"
   ]
  },
  {
   "cell_type": "markdown",
   "id": "ca6db443",
   "metadata": {},
   "source": [
    "Y dividimos los datos de nuevo en entrenamiento y prueba"
   ]
  },
  {
   "cell_type": "code",
   "execution_count": 11,
   "id": "7602c5f8",
   "metadata": {},
   "outputs": [],
   "source": [
    "split = int(len(X) * 0.8)\n",
    "X_train, y_train = X[:split], y[:split]\n",
    "X_test, y_test = X[split:], y[split:]"
   ]
  },
  {
   "cell_type": "markdown",
   "id": "12b55e9a",
   "metadata": {},
   "source": [
    "Es hora de crear el modelo LSTM, para ello usamos:\n",
    "\n",
    "* Una capa LSTM con 64 neuronas\n",
    "* Una capa densa con 32 neuronas\n",
    "* Una capa final de 1 neurona"
   ]
  },
  {
   "cell_type": "code",
   "execution_count": 12,
   "id": "6623027c",
   "metadata": {},
   "outputs": [],
   "source": [
    "model = Sequential([\n",
    "    LSTM(64, activation='tanh', return_sequences=False, input_shape=(X.shape[1], 1)),\n",
    "    Dense(32, activation='relu'),\n",
    "    Dense(1)\n",
    "])"
   ]
  },
  {
   "cell_type": "markdown",
   "id": "09deb7ed",
   "metadata": {},
   "source": [
    "Compilamos y entrenamos el modelo"
   ]
  },
  {
   "cell_type": "code",
   "execution_count": 13,
   "id": "5c1413fd",
   "metadata": {},
   "outputs": [
    {
     "name": "stdout",
     "output_type": "stream",
     "text": [
      "Epoch 1/50\n"
     ]
    },
    {
     "name": "stderr",
     "output_type": "stream",
     "text": [
      "2025-05-26 01:24:05.633311: I tensorflow/compiler/xla/stream_executor/cuda/cuda_dnn.cc:432] Loaded cuDNN version 8907\n",
      "2025-05-26 01:24:05.654232: I tensorflow/compiler/xla/service/service.cc:168] XLA service 0x731c1d81fdb0 initialized for platform CUDA (this does not guarantee that XLA will be used). Devices:\n",
      "2025-05-26 01:24:05.654250: I tensorflow/compiler/xla/service/service.cc:176]   StreamExecutor device (0): NVIDIA GeForce RTX 4060, Compute Capability 8.9\n",
      "2025-05-26 01:24:05.657632: I tensorflow/compiler/mlir/tensorflow/utils/dump_mlir_util.cc:255] disabling MLIR crash reproducer, set env var `MLIR_CRASH_REPRODUCER_DIRECTORY` to enable.\n",
      "2025-05-26 01:24:05.748872: I ./tensorflow/compiler/jit/device_compiler.h:186] Compiled cluster using XLA!  This line is logged at most once for the lifetime of the process.\n"
     ]
    },
    {
     "name": "stdout",
     "output_type": "stream",
     "text": [
      "181/181 [==============================] - 2s 3ms/step - loss: 0.0050 - val_loss: 2.9243e-04\n",
      "Epoch 2/50\n",
      "181/181 [==============================] - 0s 2ms/step - loss: 2.5070e-04 - val_loss: 2.5533e-04\n",
      "Epoch 3/50\n",
      "181/181 [==============================] - 0s 2ms/step - loss: 2.0784e-04 - val_loss: 3.3524e-04\n",
      "Epoch 4/50\n",
      "181/181 [==============================] - 0s 2ms/step - loss: 1.5079e-04 - val_loss: 3.3803e-04\n",
      "Epoch 5/50\n",
      "181/181 [==============================] - 0s 2ms/step - loss: 1.2159e-04 - val_loss: 1.3545e-04\n",
      "Epoch 6/50\n",
      "181/181 [==============================] - 0s 2ms/step - loss: 1.0391e-04 - val_loss: 1.4794e-04\n",
      "Epoch 7/50\n",
      "181/181 [==============================] - 0s 2ms/step - loss: 9.2349e-05 - val_loss: 1.2817e-04\n",
      "Epoch 8/50\n",
      "181/181 [==============================] - 0s 2ms/step - loss: 8.4854e-05 - val_loss: 2.2596e-04\n",
      "Epoch 9/50\n",
      "181/181 [==============================] - 0s 2ms/step - loss: 7.0838e-05 - val_loss: 1.5850e-04\n",
      "Epoch 10/50\n",
      "181/181 [==============================] - 0s 2ms/step - loss: 6.7702e-05 - val_loss: 9.3904e-05\n",
      "Epoch 11/50\n",
      "181/181 [==============================] - 0s 2ms/step - loss: 5.8576e-05 - val_loss: 2.4464e-04\n",
      "Epoch 12/50\n",
      "181/181 [==============================] - 0s 2ms/step - loss: 6.0554e-05 - val_loss: 9.2748e-05\n",
      "Epoch 13/50\n",
      "181/181 [==============================] - 0s 2ms/step - loss: 5.2976e-05 - val_loss: 1.6220e-04\n",
      "Epoch 14/50\n",
      "181/181 [==============================] - 0s 2ms/step - loss: 4.8169e-05 - val_loss: 3.8939e-05\n",
      "Epoch 15/50\n",
      "181/181 [==============================] - 0s 2ms/step - loss: 4.3549e-05 - val_loss: 4.8318e-05\n",
      "Epoch 16/50\n",
      "181/181 [==============================] - 0s 2ms/step - loss: 4.1312e-05 - val_loss: 4.2977e-05\n",
      "Epoch 17/50\n",
      "181/181 [==============================] - 0s 2ms/step - loss: 3.9516e-05 - val_loss: 4.5657e-05\n",
      "Epoch 18/50\n",
      "181/181 [==============================] - 0s 2ms/step - loss: 3.8963e-05 - val_loss: 7.3440e-05\n",
      "Epoch 19/50\n",
      "181/181 [==============================] - 0s 2ms/step - loss: 3.7467e-05 - val_loss: 6.7547e-05\n",
      "Epoch 20/50\n",
      "181/181 [==============================] - 0s 2ms/step - loss: 3.1739e-05 - val_loss: 8.5183e-05\n",
      "Epoch 21/50\n",
      "181/181 [==============================] - 0s 2ms/step - loss: 2.8183e-05 - val_loss: 9.4573e-05\n",
      "Epoch 22/50\n",
      "181/181 [==============================] - 0s 2ms/step - loss: 3.2040e-05 - val_loss: 3.0857e-05\n",
      "Epoch 23/50\n",
      "181/181 [==============================] - 0s 2ms/step - loss: 2.6761e-05 - val_loss: 7.1246e-05\n",
      "Epoch 24/50\n",
      "181/181 [==============================] - 0s 2ms/step - loss: 2.7075e-05 - val_loss: 5.0197e-04\n",
      "Epoch 25/50\n",
      "181/181 [==============================] - 0s 2ms/step - loss: 2.6681e-05 - val_loss: 1.3744e-04\n",
      "Epoch 26/50\n",
      "181/181 [==============================] - 0s 2ms/step - loss: 2.3653e-05 - val_loss: 2.2422e-04\n",
      "Epoch 27/50\n",
      "181/181 [==============================] - 0s 2ms/step - loss: 2.4466e-05 - val_loss: 2.7442e-05\n",
      "Epoch 28/50\n",
      "181/181 [==============================] - 0s 2ms/step - loss: 2.1702e-05 - val_loss: 1.6886e-05\n",
      "Epoch 29/50\n",
      "181/181 [==============================] - 0s 2ms/step - loss: 2.0289e-05 - val_loss: 4.4887e-05\n",
      "Epoch 30/50\n",
      "181/181 [==============================] - 0s 2ms/step - loss: 2.2312e-05 - val_loss: 1.9142e-04\n",
      "Epoch 31/50\n",
      "181/181 [==============================] - 0s 2ms/step - loss: 2.4233e-05 - val_loss: 5.2673e-05\n",
      "Epoch 32/50\n",
      "181/181 [==============================] - 0s 2ms/step - loss: 2.0548e-05 - val_loss: 3.6292e-05\n",
      "Epoch 33/50\n",
      "181/181 [==============================] - 0s 2ms/step - loss: 1.7312e-05 - val_loss: 1.3276e-04\n",
      "Epoch 34/50\n",
      "181/181 [==============================] - 0s 2ms/step - loss: 1.9562e-05 - val_loss: 1.0550e-05\n",
      "Epoch 35/50\n",
      "181/181 [==============================] - 0s 2ms/step - loss: 1.6131e-05 - val_loss: 2.3958e-05\n",
      "Epoch 36/50\n",
      "181/181 [==============================] - 0s 2ms/step - loss: 1.8450e-05 - val_loss: 4.5480e-05\n",
      "Epoch 37/50\n",
      "181/181 [==============================] - 0s 2ms/step - loss: 2.0946e-05 - val_loss: 1.9128e-05\n",
      "Epoch 38/50\n",
      "181/181 [==============================] - 0s 2ms/step - loss: 1.9784e-05 - val_loss: 5.5727e-05\n",
      "Epoch 39/50\n",
      "181/181 [==============================] - 0s 2ms/step - loss: 1.6199e-05 - val_loss: 1.7360e-05\n",
      "Epoch 40/50\n",
      "181/181 [==============================] - 0s 2ms/step - loss: 2.0120e-05 - val_loss: 1.3106e-05\n",
      "Epoch 41/50\n",
      "181/181 [==============================] - 0s 2ms/step - loss: 1.6195e-05 - val_loss: 1.0090e-05\n",
      "Epoch 42/50\n",
      "181/181 [==============================] - 0s 2ms/step - loss: 1.5257e-05 - val_loss: 1.8774e-05\n",
      "Epoch 43/50\n",
      "181/181 [==============================] - 0s 2ms/step - loss: 1.4611e-05 - val_loss: 9.6192e-06\n",
      "Epoch 44/50\n",
      "181/181 [==============================] - 0s 2ms/step - loss: 1.6649e-05 - val_loss: 1.5008e-05\n",
      "Epoch 45/50\n",
      "181/181 [==============================] - 0s 2ms/step - loss: 1.4410e-05 - val_loss: 1.0969e-04\n",
      "Epoch 46/50\n",
      "181/181 [==============================] - 0s 2ms/step - loss: 1.4326e-05 - val_loss: 9.3894e-06\n",
      "Epoch 47/50\n",
      "181/181 [==============================] - 0s 2ms/step - loss: 1.4375e-05 - val_loss: 1.9279e-05\n",
      "Epoch 48/50\n",
      "181/181 [==============================] - 0s 2ms/step - loss: 1.3899e-05 - val_loss: 1.1421e-05\n",
      "Epoch 49/50\n",
      "181/181 [==============================] - 0s 2ms/step - loss: 1.3529e-05 - val_loss: 2.1954e-05\n",
      "Epoch 50/50\n",
      "181/181 [==============================] - 0s 2ms/step - loss: 1.5735e-05 - val_loss: 6.8601e-05\n"
     ]
    },
    {
     "data": {
      "text/plain": [
       "<keras.src.callbacks.History at 0x731c6b542320>"
      ]
     },
     "execution_count": 13,
     "metadata": {},
     "output_type": "execute_result"
    }
   ],
   "source": [
    "model.compile(optimizer='adam', loss='mse')\n",
    "model.fit(X_train, y_train, epochs=50, batch_size=32, validation_split=0.1, verbose=1)"
   ]
  },
  {
   "cell_type": "markdown",
   "id": "20b72727",
   "metadata": {},
   "source": [
    "<h3 style=\"color:darkcyan;\">3.1. Resultados validación</h3>\n",
    "\n",
    "Ahora mostraremos los resultados de las metricas de validación de este modelo en el conjunto de prueba"
   ]
  },
  {
   "cell_type": "code",
   "execution_count": 14,
   "id": "18efc61a",
   "metadata": {},
   "outputs": [
    {
     "name": "stdout",
     "output_type": "stream",
     "text": [
      "51/51 [==============================] - 0s 777us/step\n",
      "\n",
      "--- Métricas en el conjunto de prueba ---\n",
      "MAE: 675.85\n",
      "RMSE: 749.29\n",
      "R²: 0.9956\n"
     ]
    }
   ],
   "source": [
    "y_pred_scaled = model.predict(X_test).flatten()\n",
    "y_test_real = scaler.inverse_transform(y_test.reshape(-1, 1)).flatten()\n",
    "y_pred_real = scaler.inverse_transform(y_pred_scaled.reshape(-1, 1)).flatten()\n",
    "\n",
    "# Calculo de metricas\n",
    "mae = mean_absolute_error(y_test_real, y_pred_real)\n",
    "rmse = np.sqrt(mean_squared_error(y_test_real, y_pred_real))\n",
    "r2 = r2_score(y_test_real, y_pred_real)\n",
    "\n",
    "# Mostrar las metricas\n",
    "print(\"\\n--- Métricas en el conjunto de prueba ---\")\n",
    "print(f\"MAE: {mae:.2f}\")\n",
    "print(f\"RMSE: {rmse:.2f}\")\n",
    "print(f\"R²: {r2:.4f}\")"
   ]
  },
  {
   "cell_type": "markdown",
   "id": "d64b1a1c",
   "metadata": {},
   "source": [
    "* Observamos unos resultados muy buenos respecto a la red neuronal previamente creada, con un margen de fallo de 749,29€ y un R cuadrado de 0.955."
   ]
  },
  {
   "cell_type": "markdown",
   "id": "bd45c66a",
   "metadata": {},
   "source": [
    "<h3 style=\"color:darkcyan;\">3.2. Prediccion de 10 dias</h3>\n",
    "\n",
    "Para calcular los 10 proximos dias, obtendremos los ultimos dias que previamente definimos en la ventana y realizamos la predicción en un bucle de 10, que son los dias a predecir"
   ]
  },
  {
   "cell_type": "code",
   "execution_count": 15,
   "id": "f10aebb0",
   "metadata": {},
   "outputs": [
    {
     "name": "stdout",
     "output_type": "stream",
     "text": [
      "1/1 [==============================] - 0s 14ms/step\n",
      "1/1 [==============================] - 0s 15ms/step\n",
      "1/1 [==============================] - 0s 14ms/step\n",
      "1/1 [==============================] - 0s 14ms/step\n",
      "1/1 [==============================] - 0s 14ms/step\n",
      "1/1 [==============================] - 0s 15ms/step\n",
      "1/1 [==============================] - 0s 14ms/step\n",
      "1/1 [==============================] - 0s 15ms/step\n",
      "1/1 [==============================] - 0s 14ms/step\n",
      "1/1 [==============================] - 0s 14ms/step\n"
     ]
    }
   ],
   "source": [
    "last_sequence = scaled_prices[-window_size:].reshape(1, window_size, 1)\n",
    "future_predictions = []\n",
    "\n",
    "for _ in range(10):\n",
    "    next_pred = model.predict(last_sequence)[0, 0]\n",
    "    future_predictions.append(next_pred)\n",
    "    new_seq = np.append(last_sequence[0, 1:, 0], next_pred)\n",
    "    last_sequence = new_seq.reshape(1, window_size, 1)\n",
    "\n",
    "future_predictions = scaler.inverse_transform(np.array(future_predictions).reshape(-1, 1)).flatten()"
   ]
  },
  {
   "cell_type": "markdown",
   "id": "70fd4442",
   "metadata": {},
   "source": [
    "Ahora visualizamos gráficamente la predicción para ver los resultados"
   ]
  },
  {
   "cell_type": "code",
   "execution_count": 16,
   "id": "dd280a47",
   "metadata": {},
   "outputs": [
    {
     "data": {
      "image/png": "[encoded data removed]",
      "text/plain": [
       "<Figure size 1200x600 with 1 Axes>"
      ]
     },
     "metadata": {},
     "output_type": "display_data"
    }
   ],
   "source": [
    "last_date = df['timestamp'].iloc[-1]\n",
    "future_dates = [last_date + timedelta(days=i+1) for i in range(10)]\n",
    "\n",
    "plt.figure(figsize=(12,6))\n",
    "plt.plot(df['timestamp'][-60:], df['precio_btc'][-60:], label=\"Precio real (últimos 60 días)\", color='blue')\n",
    "plt.plot(future_dates, future_predictions, marker='o', label=\"Predicción próximos 10 días\", color='orange')\n",
    "\n",
    "plt.title(\"Predicción de BTC con LSTM\")\n",
    "plt.xlabel(\"Fecha\")\n",
    "plt.ylabel(\"Precio BTC\")\n",
    "plt.xticks(rotation=45)\n",
    "plt.legend()\n",
    "plt.grid(True)\n",
    "plt.tight_layout()\n",
    "plt.show()"
   ]
  },
  {
   "cell_type": "markdown",
   "id": "f8e0439d",
   "metadata": {},
   "source": [
    "### Resultados\n",
    "\n",
    "* Como observamos, apreciamos un descenso en el precio en los proximos 10 dias despues de la última fecha que poseemos, que seria el 31 de Diciembre de 2030\n",
    "\n",
    "* Razonamos que se basa en la previa caida del precio en los ultimos dias"
   ]
  },
  {
   "cell_type": "markdown",
   "id": "5976a7eb",
   "metadata": {},
   "source": [
    "<h3 style=\"color:darkcyan;\">3.3. Guardado del modelo</h3>\n",
    "\n",
    "Procedemos a guardar el modelo para posterior uso en HugginFace, etc."
   ]
  },
  {
   "cell_type": "code",
   "execution_count": 17,
   "id": "f45d578a",
   "metadata": {},
   "outputs": [
    {
     "name": "stderr",
     "output_type": "stream",
     "text": [
      "/home/alberto/Escritorio/GPU/env/lib/python3.10/site-packages/keras/src/engine/training.py:3000: UserWarning: You are saving your model as an HDF5 file via `model.save()`. This file format is considered legacy. We recommend using instead the native Keras format, e.g. `model.save('my_model.keras')`.\n",
      "  saving_api.save_model(\n"
     ]
    }
   ],
   "source": [
    "model.save(\"modelo1.h5\")"
   ]
  },
  {
   "cell_type": "markdown",
   "id": "6594f65a",
   "metadata": {},
   "source": [
    "<h2 style=\"color:darkcyan;\">4. Modelo Regresión Lineal</h2>\n",
    "\n",
    "Vamos a crear un modelo de Regresión Lineal básico, para observar la predicción del precio respecto a los valores reales\n",
    "\n",
    "* Para empezar volvemos a cargar los datos del `.csv` del hito anterior"
   ]
  },
  {
   "cell_type": "code",
   "execution_count": 18,
   "id": "5ec0a2b9",
   "metadata": {},
   "outputs": [],
   "source": [
    "df = pd.read_csv(\"btc_datos_escalados.csv\")\n",
    "df['timestamp'] = pd.to_datetime(df['timestamp']) # Pasamos a datetime"
   ]
  },
  {
   "cell_type": "markdown",
   "id": "e79e3ed2",
   "metadata": {},
   "source": [
    "Dividimos los datos en entrenamiento y prueba"
   ]
  },
  {
   "cell_type": "code",
   "execution_count": 19,
   "id": "7cf432f4",
   "metadata": {},
   "outputs": [],
   "source": [
    "X = df.drop(columns=['precio_btc', 'timestamp']).values\n",
    "y = df['precio_btc'].values\n",
    "\n",
    "X_train, X_test, y_train, y_test = train_test_split(X, y, test_size=0.2, random_state=42)"
   ]
  },
  {
   "cell_type": "markdown",
   "id": "7236f044",
   "metadata": {},
   "source": [
    "Creamos el modelo de regresión con `LineaRegression()` y lo entrenamos"
   ]
  },
  {
   "cell_type": "code",
   "execution_count": 20,
   "id": "2c5fb445",
   "metadata": {},
   "outputs": [
    {
     "data": {
      "text/html": [
       "<style>#sk-container-id-1 {\n",
       "  /* Definition of color scheme common for light and dark mode */\n",
       "  --sklearn-color-text: #000;\n",
       "  --sklearn-color-text-muted: #666;\n",
       "  --sklearn-color-line: gray;\n",
       "  /* Definition of color scheme for unfitted estimators */\n",
       "  --sklearn-color-unfitted-level-0: #fff5e6;\n",
       "  --sklearn-color-unfitted-level-1: #f6e4d2;\n",
       "  --sklearn-color-unfitted-level-2: #ffe0b3;\n",
       "  --sklearn-color-unfitted-level-3: chocolate;\n",
       "  /* Definition of color scheme for fitted estimators */\n",
       "  --sklearn-color-fitted-level-0: #f0f8ff;\n",
       "  --sklearn-color-fitted-level-1: #d4ebff;\n",
       "  --sklearn-color-fitted-level-2: #b3dbfd;\n",
       "  --sklearn-color-fitted-level-3: cornflowerblue;\n",
       "\n",
       "  /* Specific color for light theme */\n",
       "  --sklearn-color-text-on-default-background: var(--sg-text-color, var(--theme-code-foreground, var(--jp-content-font-color1, black)));\n",
       "  --sklearn-color-background: var(--sg-background-color, var(--theme-background, var(--jp-layout-color0, white)));\n",
       "  --sklearn-color-border-box: var(--sg-text-color, var(--theme-code-foreground, var(--jp-content-font-color1, black)));\n",
       "  --sklearn-color-icon: #696969;\n",
       "\n",
       "  @media (prefers-color-scheme: dark) {\n",
       "    /* Redefinition of color scheme for dark theme */\n",
       "    --sklearn-color-text-on-default-background: var(--sg-text-color, var(--theme-code-foreground, var(--jp-content-font-color1, white)));\n",
       "    --sklearn-color-background: var(--sg-background-color, var(--theme-background, var(--jp-layout-color0, #111)));\n",
       "    --sklearn-color-border-box: var(--sg-text-color, var(--theme-code-foreground, var(--jp-content-font-color1, white)));\n",
       "    --sklearn-color-icon: #878787;\n",
       "  }\n",
       "}\n",
       "\n",
       "#sk-container-id-1 {\n",
       "  color: var(--sklearn-color-text);\n",
       "}\n",
       "\n",
       "#sk-container-id-1 pre {\n",
       "  padding: 0;\n",
       "}\n",
       "\n",
       "#sk-container-id-1 input.sk-hidden--visually {\n",
       "  border: 0;\n",
       "  clip: rect(1px 1px 1px 1px);\n",
       "  clip: rect(1px, 1px, 1px, 1px);\n",
       "  height: 1px;\n",
       "  margin: -1px;\n",
       "  overflow: hidden;\n",
       "  padding: 0;\n",
       "  position: absolute;\n",
       "  width: 1px;\n",
       "}\n",
       "\n",
       "#sk-container-id-1 div.sk-dashed-wrapped {\n",
       "  border: 1px dashed var(--sklearn-color-line);\n",
       "  margin: 0 0.4em 0.5em 0.4em;\n",
       "  box-sizing: border-box;\n",
       "  padding-bottom: 0.4em;\n",
       "  background-color: var(--sklearn-color-background);\n",
       "}\n",
       "\n",
       "#sk-container-id-1 div.sk-container {\n",
       "  /* jupyter's `normalize.less` sets `[hidden] { display: none; }`\n",
       "     but bootstrap.min.css set `[hidden] { display: none !important; }`\n",
       "     so we also need the `!important` here to be able to override the\n",
       "     default hidden behavior on the sphinx rendered scikit-learn.org.\n",
       "     See: https://github.com/scikit-learn/scikit-learn/issues/21755 */\n",
       "  display: inline-block !important;\n",
       "  position: relative;\n",
       "}\n",
       "\n",
       "#sk-container-id-1 div.sk-text-repr-fallback {\n",
       "  display: none;\n",
       "}\n",
       "\n",
       "div.sk-parallel-item,\n",
       "div.sk-serial,\n",
       "div.sk-item {\n",
       "  /* draw centered vertical line to link estimators */\n",
       "  background-image: linear-gradient(var(--sklearn-color-text-on-default-background), var(--sklearn-color-text-on-default-background));\n",
       "  background-size: 2px 100%;\n",
       "  background-repeat: no-repeat;\n",
       "  background-position: center center;\n",
       "}\n",
       "\n",
       "/* Parallel-specific style estimator block */\n",
       "\n",
       "#sk-container-id-1 div.sk-parallel-item::after {\n",
       "  content: \"\";\n",
       "  width: 100%;\n",
       "  border-bottom: 2px solid var(--sklearn-color-text-on-default-background);\n",
       "  flex-grow: 1;\n",
       "}\n",
       "\n",
       "#sk-container-id-1 div.sk-parallel {\n",
       "  display: flex;\n",
       "  align-items: stretch;\n",
       "  justify-content: center;\n",
       "  background-color: var(--sklearn-color-background);\n",
       "  position: relative;\n",
       "}\n",
       "\n",
       "#sk-container-id-1 div.sk-parallel-item {\n",
       "  display: flex;\n",
       "  flex-direction: column;\n",
       "}\n",
       "\n",
       "#sk-container-id-1 div.sk-parallel-item:first-child::after {\n",
       "  align-self: flex-end;\n",
       "  width: 50%;\n",
       "}\n",
       "\n",
       "#sk-container-id-1 div.sk-parallel-item:last-child::after {\n",
       "  align-self: flex-start;\n",
       "  width: 50%;\n",
       "}\n",
       "\n",
       "#sk-container-id-1 div.sk-parallel-item:only-child::after {\n",
       "  width: 0;\n",
       "}\n",
       "\n",
       "/* Serial-specific style estimator block */\n",
       "\n",
       "#sk-container-id-1 div.sk-serial {\n",
       "  display: flex;\n",
       "  flex-direction: column;\n",
       "  align-items: center;\n",
       "  background-color: var(--sklearn-color-background);\n",
       "  padding-right: 1em;\n",
       "  padding-left: 1em;\n",
       "}\n",
       "\n",
       "\n",
       "/* Toggleable style: style used for estimator/Pipeline/ColumnTransformer box that is\n",
       "clickable and can be expanded/collapsed.\n",
       "- Pipeline and ColumnTransformer use this feature and define the default style\n",
       "- Estimators will overwrite some part of the style using the `sk-estimator` class\n",
       "*/\n",
       "\n",
       "/* Pipeline and ColumnTransformer style (default) */\n",
       "\n",
       "#sk-container-id-1 div.sk-toggleable {\n",
       "  /* Default theme specific background. It is overwritten whether we have a\n",
       "  specific estimator or a Pipeline/ColumnTransformer */\n",
       "  background-color: var(--sklearn-color-background);\n",
       "}\n",
       "\n",
       "/* Toggleable label */\n",
       "#sk-container-id-1 label.sk-toggleable__label {\n",
       "  cursor: pointer;\n",
       "  display: flex;\n",
       "  width: 100%;\n",
       "  margin-bottom: 0;\n",
       "  padding: 0.5em;\n",
       "  box-sizing: border-box;\n",
       "  text-align: center;\n",
       "  align-items: start;\n",
       "  justify-content: space-between;\n",
       "  gap: 0.5em;\n",
       "}\n",
       "\n",
       "#sk-container-id-1 label.sk-toggleable__label .caption {\n",
       "  font-size: 0.6rem;\n",
       "  font-weight: lighter;\n",
       "  color: var(--sklearn-color-text-muted);\n",
       "}\n",
       "\n",
       "#sk-container-id-1 label.sk-toggleable__label-arrow:before {\n",
       "  /* Arrow on the left of the label */\n",
       "  content: \"▸\";\n",
       "  float: left;\n",
       "  margin-right: 0.25em;\n",
       "  color: var(--sklearn-color-icon);\n",
       "}\n",
       "\n",
       "#sk-container-id-1 label.sk-toggleable__label-arrow:hover:before {\n",
       "  color: var(--sklearn-color-text);\n",
       "}\n",
       "\n",
       "/* Toggleable content - dropdown */\n",
       "\n",
       "#sk-container-id-1 div.sk-toggleable__content {\n",
       "  max-height: 0;\n",
       "  max-width: 0;\n",
       "  overflow: hidden;\n",
       "  text-align: left;\n",
       "  /* unfitted */\n",
       "  background-color: var(--sklearn-color-unfitted-level-0);\n",
       "}\n",
       "\n",
       "#sk-container-id-1 div.sk-toggleable__content.fitted {\n",
       "  /* fitted */\n",
       "  background-color: var(--sklearn-color-fitted-level-0);\n",
       "}\n",
       "\n",
       "#sk-container-id-1 div.sk-toggleable__content pre {\n",
       "  margin: 0.2em;\n",
       "  border-radius: 0.25em;\n",
       "  color: var(--sklearn-color-text);\n",
       "  /* unfitted */\n",
       "  background-color: var(--sklearn-color-unfitted-level-0);\n",
       "}\n",
       "\n",
       "#sk-container-id-1 div.sk-toggleable__content.fitted pre {\n",
       "  /* unfitted */\n",
       "  background-color: var(--sklearn-color-fitted-level-0);\n",
       "}\n",
       "\n",
       "#sk-container-id-1 input.sk-toggleable__control:checked~div.sk-toggleable__content {\n",
       "  /* Expand drop-down */\n",
       "  max-height: 200px;\n",
       "  max-width: 100%;\n",
       "  overflow: auto;\n",
       "}\n",
       "\n",
       "#sk-container-id-1 input.sk-toggleable__control:checked~label.sk-toggleable__label-arrow:before {\n",
       "  content: \"▾\";\n",
       "}\n",
       "\n",
       "/* Pipeline/ColumnTransformer-specific style */\n",
       "\n",
       "#sk-container-id-1 div.sk-label input.sk-toggleable__control:checked~label.sk-toggleable__label {\n",
       "  color: var(--sklearn-color-text);\n",
       "  background-color: var(--sklearn-color-unfitted-level-2);\n",
       "}\n",
       "\n",
       "#sk-container-id-1 div.sk-label.fitted input.sk-toggleable__control:checked~label.sk-toggleable__label {\n",
       "  background-color: var(--sklearn-color-fitted-level-2);\n",
       "}\n",
       "\n",
       "/* Estimator-specific style */\n",
       "\n",
       "/* Colorize estimator box */\n",
       "#sk-container-id-1 div.sk-estimator input.sk-toggleable__control:checked~label.sk-toggleable__label {\n",
       "  /* unfitted */\n",
       "  background-color: var(--sklearn-color-unfitted-level-2);\n",
       "}\n",
       "\n",
       "#sk-container-id-1 div.sk-estimator.fitted input.sk-toggleable__control:checked~label.sk-toggleable__label {\n",
       "  /* fitted */\n",
       "  background-color: var(--sklearn-color-fitted-level-2);\n",
       "}\n",
       "\n",
       "#sk-container-id-1 div.sk-label label.sk-toggleable__label,\n",
       "#sk-container-id-1 div.sk-label label {\n",
       "  /* The background is the default theme color */\n",
       "  color: var(--sklearn-color-text-on-default-background);\n",
       "}\n",
       "\n",
       "/* On hover, darken the color of the background */\n",
       "#sk-container-id-1 div.sk-label:hover label.sk-toggleable__label {\n",
       "  color: var(--sklearn-color-text);\n",
       "  background-color: var(--sklearn-color-unfitted-level-2);\n",
       "}\n",
       "\n",
       "/* Label box, darken color on hover, fitted */\n",
       "#sk-container-id-1 div.sk-label.fitted:hover label.sk-toggleable__label.fitted {\n",
       "  color: var(--sklearn-color-text);\n",
       "  background-color: var(--sklearn-color-fitted-level-2);\n",
       "}\n",
       "\n",
       "/* Estimator label */\n",
       "\n",
       "#sk-container-id-1 div.sk-label label {\n",
       "  font-family: monospace;\n",
       "  font-weight: bold;\n",
       "  display: inline-block;\n",
       "  line-height: 1.2em;\n",
       "}\n",
       "\n",
       "#sk-container-id-1 div.sk-label-container {\n",
       "  text-align: center;\n",
       "}\n",
       "\n",
       "/* Estimator-specific */\n",
       "#sk-container-id-1 div.sk-estimator {\n",
       "  font-family: monospace;\n",
       "  border: 1px dotted var(--sklearn-color-border-box);\n",
       "  border-radius: 0.25em;\n",
       "  box-sizing: border-box;\n",
       "  margin-bottom: 0.5em;\n",
       "  /* unfitted */\n",
       "  background-color: var(--sklearn-color-unfitted-level-0);\n",
       "}\n",
       "\n",
       "#sk-container-id-1 div.sk-estimator.fitted {\n",
       "  /* fitted */\n",
       "  background-color: var(--sklearn-color-fitted-level-0);\n",
       "}\n",
       "\n",
       "/* on hover */\n",
       "#sk-container-id-1 div.sk-estimator:hover {\n",
       "  /* unfitted */\n",
       "  background-color: var(--sklearn-color-unfitted-level-2);\n",
       "}\n",
       "\n",
       "#sk-container-id-1 div.sk-estimator.fitted:hover {\n",
       "  /* fitted */\n",
       "  background-color: var(--sklearn-color-fitted-level-2);\n",
       "}\n",
       "\n",
       "/* Specification for estimator info (e.g. \"i\" and \"?\") */\n",
       "\n",
       "/* Common style for \"i\" and \"?\" */\n",
       "\n",
       ".sk-estimator-doc-link,\n",
       "a:link.sk-estimator-doc-link,\n",
       "a:visited.sk-estimator-doc-link {\n",
       "  float: right;\n",
       "  font-size: smaller;\n",
       "  line-height: 1em;\n",
       "  font-family: monospace;\n",
       "  background-color: var(--sklearn-color-background);\n",
       "  border-radius: 1em;\n",
       "  height: 1em;\n",
       "  width: 1em;\n",
       "  text-decoration: none !important;\n",
       "  margin-left: 0.5em;\n",
       "  text-align: center;\n",
       "  /* unfitted */\n",
       "  border: var(--sklearn-color-unfitted-level-1) 1pt solid;\n",
       "  color: var(--sklearn-color-unfitted-level-1);\n",
       "}\n",
       "\n",
       ".sk-estimator-doc-link.fitted,\n",
       "a:link.sk-estimator-doc-link.fitted,\n",
       "a:visited.sk-estimator-doc-link.fitted {\n",
       "  /* fitted */\n",
       "  border: var(--sklearn-color-fitted-level-1) 1pt solid;\n",
       "  color: var(--sklearn-color-fitted-level-1);\n",
       "}\n",
       "\n",
       "/* On hover */\n",
       "div.sk-estimator:hover .sk-estimator-doc-link:hover,\n",
       ".sk-estimator-doc-link:hover,\n",
       "div.sk-label-container:hover .sk-estimator-doc-link:hover,\n",
       ".sk-estimator-doc-link:hover {\n",
       "  /* unfitted */\n",
       "  background-color: var(--sklearn-color-unfitted-level-3);\n",
       "  color: var(--sklearn-color-background);\n",
       "  text-decoration: none;\n",
       "}\n",
       "\n",
       "div.sk-estimator.fitted:hover .sk-estimator-doc-link.fitted:hover,\n",
       ".sk-estimator-doc-link.fitted:hover,\n",
       "div.sk-label-container:hover .sk-estimator-doc-link.fitted:hover,\n",
       ".sk-estimator-doc-link.fitted:hover {\n",
       "  /* fitted */\n",
       "  background-color: var(--sklearn-color-fitted-level-3);\n",
       "  color: var(--sklearn-color-background);\n",
       "  text-decoration: none;\n",
       "}\n",
       "\n",
       "/* Span, style for the box shown on hovering the info icon */\n",
       ".sk-estimator-doc-link span {\n",
       "  display: none;\n",
       "  z-index: 9999;\n",
       "  position: relative;\n",
       "  font-weight: normal;\n",
       "  right: .2ex;\n",
       "  padding: .5ex;\n",
       "  margin: .5ex;\n",
       "  width: min-content;\n",
       "  min-width: 20ex;\n",
       "  max-width: 50ex;\n",
       "  color: var(--sklearn-color-text);\n",
       "  box-shadow: 2pt 2pt 4pt #999;\n",
       "  /* unfitted */\n",
       "  background: var(--sklearn-color-unfitted-level-0);\n",
       "  border: .5pt solid var(--sklearn-color-unfitted-level-3);\n",
       "}\n",
       "\n",
       ".sk-estimator-doc-link.fitted span {\n",
       "  /* fitted */\n",
       "  background: var(--sklearn-color-fitted-level-0);\n",
       "  border: var(--sklearn-color-fitted-level-3);\n",
       "}\n",
       "\n",
       ".sk-estimator-doc-link:hover span {\n",
       "  display: block;\n",
       "}\n",
       "\n",
       "/* \"?\"-specific style due to the `<a>` HTML tag */\n",
       "\n",
       "#sk-container-id-1 a.estimator_doc_link {\n",
       "  float: right;\n",
       "  font-size: 1rem;\n",
       "  line-height: 1em;\n",
       "  font-family: monospace;\n",
       "  background-color: var(--sklearn-color-background);\n",
       "  border-radius: 1rem;\n",
       "  height: 1rem;\n",
       "  width: 1rem;\n",
       "  text-decoration: none;\n",
       "  /* unfitted */\n",
       "  color: var(--sklearn-color-unfitted-level-1);\n",
       "  border: var(--sklearn-color-unfitted-level-1) 1pt solid;\n",
       "}\n",
       "\n",
       "#sk-container-id-1 a.estimator_doc_link.fitted {\n",
       "  /* fitted */\n",
       "  border: var(--sklearn-color-fitted-level-1) 1pt solid;\n",
       "  color: var(--sklearn-color-fitted-level-1);\n",
       "}\n",
       "\n",
       "/* On hover */\n",
       "#sk-container-id-1 a.estimator_doc_link:hover {\n",
       "  /* unfitted */\n",
       "  background-color: var(--sklearn-color-unfitted-level-3);\n",
       "  color: var(--sklearn-color-background);\n",
       "  text-decoration: none;\n",
       "}\n",
       "\n",
       "#sk-container-id-1 a.estimator_doc_link.fitted:hover {\n",
       "  /* fitted */\n",
       "  background-color: var(--sklearn-color-fitted-level-3);\n",
       "}\n",
       "</style><div id=\"sk-container-id-1\" class=\"sk-top-container\"><div class=\"sk-text-repr-fallback\"><pre>LinearRegression()</pre><b>In a Jupyter environment, please rerun this cell to show the HTML representation or trust the notebook. <br />On GitHub, the HTML representation is unable to render, please try loading this page with nbviewer.org.</b></div><div class=\"sk-container\" hidden><div class=\"sk-item\"><div class=\"sk-estimator fitted sk-toggleable\"><input class=\"sk-toggleable__control sk-hidden--visually\" id=\"sk-estimator-id-1\" type=\"checkbox\" checked><label for=\"sk-estimator-id-1\" class=\"sk-toggleable__label fitted sk-toggleable__label-arrow\"><div><div>LinearRegression</div></div><div><a class=\"sk-estimator-doc-link fitted\" rel=\"noreferrer\" target=\"_blank\" href=\"https://scikit-learn.org/1.6/modules/generated/sklearn.linear_model.LinearRegression.html\">?<span>Documentation for LinearRegression</span></a><span class=\"sk-estimator-doc-link fitted\">i<span>Fitted</span></span></div></label><div class=\"sk-toggleable__content fitted\"><pre>LinearRegression()</pre></div> </div></div></div></div>"
      ],
      "text/plain": [
       "LinearRegression()"
      ]
     },
     "execution_count": 20,
     "metadata": {},
     "output_type": "execute_result"
    }
   ],
   "source": [
    "model = LinearRegression()\n",
    "model.fit(X_train, y_train)"
   ]
  },
  {
   "cell_type": "markdown",
   "id": "340ee8cf",
   "metadata": {},
   "source": [
    "<h3 style=\"color:darkcyan;\">4.1. Resultados validación</h3>\n",
    "\n",
    "Ahora predecimos y mostraremos los resultados de las metricas de validación de este modelo en el conjunto de prueba"
   ]
  },
  {
   "cell_type": "code",
   "execution_count": 21,
   "id": "6d46eff2",
   "metadata": {},
   "outputs": [
    {
     "name": "stdout",
     "output_type": "stream",
     "text": [
      "\n",
      "--- Métricas de validación ---\n",
      "MAE: 1471.55\n",
      "RMSE: 2261.97\n",
      "R²: 0.9866\n"
     ]
    }
   ],
   "source": [
    "# Predecimos\n",
    "y_pred = model.predict(X_test)\n",
    "\n",
    "# Generamos metricas\n",
    "mae = mean_absolute_error(y_test, y_pred)\n",
    "rmse = np.sqrt(mean_squared_error(y_test, y_pred))\n",
    "r2 = r2_score(y_test, y_pred)\n",
    "\n",
    "print(\"\\n--- Métricas de validación ---\")\n",
    "print(f\"MAE: {mae:.2f}\")\n",
    "print(f\"RMSE: {rmse:.2f}\")\n",
    "print(f\"R²: {r2:.4f}\")"
   ]
  },
  {
   "cell_type": "markdown",
   "id": "b1f0fd44",
   "metadata": {},
   "source": [
    "* Observamos unas metricas bastante buenas también, muy cercanas al modelo LSTM"
   ]
  },
  {
   "cell_type": "markdown",
   "id": "1ee44bae",
   "metadata": {},
   "source": [
    "<h3 style=\"color:darkcyan;\">4.2. Prediccion del precio</h3>\n",
    "\n",
    "Mostramos un gráfico del resultado de nuestra regresión"
   ]
  },
  {
   "cell_type": "code",
   "execution_count": 22,
   "id": "ad842f42",
   "metadata": {},
   "outputs": [
    {
     "data": {
      "image/png": "[encoded data removed]",
      "text/plain": [
       "<Figure size 1000x600 with 1 Axes>"
      ]
     },
     "metadata": {},
     "output_type": "display_data"
    }
   ],
   "source": [
    "# --- 4. Gráfico: valores reales vs predichos ---\n",
    "plt.figure(figsize=(10,6))\n",
    "plt.scatter(y_test, y_pred, alpha=0.5, label='Predicciones')\n",
    "plt.plot([y_test.min(), y_test.max()], [y_test.min(), y_test.max()], color='red', linestyle='--', label='Línea ideal')\n",
    "plt.title(\"Regresión Lineal: Precio real vs. predicho\")\n",
    "plt.xlabel(\"Precio real\")\n",
    "plt.ylabel(\"Precio predicho\")\n",
    "plt.legend()\n",
    "plt.grid(True)\n",
    "plt.tight_layout()\n",
    "plt.show()"
   ]
  },
  {
   "cell_type": "markdown",
   "id": "e5f498eb",
   "metadata": {},
   "source": [
    "### Resultados\n",
    "\n",
    "* Observamos una buena agrupación de predicciones respecto a los valores reales, aunque en valores altos tiende a caer un poco"
   ]
  }
 ],
 "metadata": {
  "kernelspec": {
   "display_name": "env",
   "language": "python",
   "name": "python3"
  },
  "language_info": {
   "codemirror_mode": {
    "name": "ipython",
    "version": 3
   },
   "file_extension": ".py",
   "mimetype": "text/x-python",
   "name": "python",
   "nbconvert_exporter": "python",
   "pygments_lexer": "ipython3",
   "version": "3.10.17"
  }
 },
 "nbformat": 4,
 "nbformat_minor": 5
}
