{
 "cells": [
  {
   "cell_type": "markdown",
   "id": "e107ed30",
   "metadata": {},
   "source": [
    "<h2 style=\"color:darkcyan;\">1. Elaboración de una visión amplia del problema y selección de variables: </h2>\n",
    "\n",
    "* Para este problema, se ha planteado obtener datos de informes diarios del precio del bitcoin y su historial y realizar predicciones con modelos de regresión y redes neuronales.\n",
    "\n",
    "* Para ello los datos son obtenidos en tiempo real de un productor, almacenados en una estructura de Bases de  Datos y posteriormente procesados para acabar siendo usados para entrenar modelos de prediccion del precio.\n",
    "\n",
    "En los siguientes apartados se explicará el proceso de almacenamiento y tratado de datos.\n"
   ]
  },
  {
   "cell_type": "markdown",
   "id": "2f0d2f74",
   "metadata": {},
   "source": [
    "<h2 style=\"color:darkcyan;\">2. Obtención y almacenamiento de los datos</h2>\n",
    "\n",
    "Una vez tengamos el productor de datos en kafka, necesitaremos obtener los datos con un consumidor\n",
    "\n",
    "Para ello tendremos que leer los datos del productor y almacenarlos posteriormente en BBDD"
   ]
  },
  {
   "cell_type": "markdown",
   "id": "7667fd34",
   "metadata": {},
   "source": [
    "<h3 style=\"color:darkcyan;\">2.1. Estructura de la obtención y almacenamiento de los datos</h3>\n",
    "\n",
    "A continuación podemos ver un esquema de como quedaria el resultado de nuestra estructura de procesamiento de datos y ELT\n",
    "<br><br><br>\n",
    "[![esquema.png](https://i.postimg.cc/BbfXwQt1/esquema.png)](https://postimg.cc/9R1mD2dW)\n",
    "<br><br><br>\n",
    "* 1. Productor kafka, el cual produce nuestros datos e informes diarios del bitcoin en tiempo real\n",
    "* 2. Consumidor kafka, el cual consume los datos del productor y mediante python inserta los datos estructurados y semiestructurados en PostgreSQL y MongoDB\n",
    "* 3. PostgreSQL para almacenar los datos estructurados como timestamp, precio_btc, cambio, clima, etc.\n",
    "* 4. MongoDB para almacenar los datos semiestructurados como los factores\n",
    "* 5. Apache NIFI para aplicar ELT a los datos obtenidos de las BBDD y obtener un archivo .csv resultado\n"
   ]
  },
  {
   "cell_type": "markdown",
   "id": "ddcc1515",
   "metadata": {},
   "source": [
    "<h3 style=\"color:darkcyan;\">2.2. Productor kafka</h3>\n",
    "\n",
    "A continuacion explicamos la estructura programada para el productor kafka , el cual nos genera datos aleatorios diarios a corde con el precio del bitcoin.\n",
    "\n",
    "Para empezar importamos las librerias necesarias"
   ]
  },
  {
   "cell_type": "markdown",
   "id": "d74e38ee",
   "metadata": {},
   "source": [
    "```python\n",
    "import random\n",
    "import time\n",
    "import json\n",
    "from datetime import datetime, timedelta\n",
    "from kafka import KafkaProducer\n",
    "```\n",
    "\n",
    "Importamos:\n",
    " - tandom, para generar variacion\n",
    " - time, para pausar el proceso de produccion\n",
    " - json, para serializar los mensajes\n",
    " - datetime, para simular el avance de los dias\n",
    " - kafka, para enviar mensajes al productor"
   ]
  },
  {
   "cell_type": "markdown",
   "id": "6ccc8493",
   "metadata": {},
   "source": [
    "```python\n",
    "producer = KafkaProducer(\n",
    "    bootstrap_servers='localhost:9092',\n",
    "    value_serializer=lambda v: json.dumps(v).encode('utf-8')\n",
    ")\n",
    "```\n",
    "\n",
    "KafkaProducer se conecta a nuestra maquina local de kafka y envia los datos en JSON"
   ]
  },
  {
   "cell_type": "markdown",
   "id": "3d4e69a2",
   "metadata": {},
   "source": [
    "<h4 style=\"color:cyan;\">2.2.1. Parametros y variables locales</h4>"
   ]
  },
  {
   "cell_type": "markdown",
   "id": "54e904fb",
   "metadata": {},
   "source": [
    "```python\n",
    "bitcoin_price = 30000\n",
    "fecha_inicio = datetime(2009, 1, 1)\n",
    "disipacion_diaria = 0.07\n",
    "precio_historial = []\n",
    "precio_historial_90d = []\n",
    "dias_buffer = 3\n",
    "ventana_max_min = 90\n",
    "prev_minimo = None\n",
    "dias_en_euforia = 0\n",
    "max_historico = bitcoin_price\n",
    "dias_rebote_fuerte = 0\n",
    "```\n",
    "\n",
    "Con estas variables:\n",
    " - Simulamos una evolucion del precio del bitcoin desde 2009.\n",
    " - Almacenamos precios para:\n",
    "    - Detectar subidas/bajadas bruscas (`dias_buffer`).\n",
    "    - Identificar maximos y minimos en los ultimos 90 dias (`ventana_max_min`).\n",
    " - Disipacion para que los factores pierdan peso con el tiempo.\n",
    " - Activamos emociones de mercado en funcion de eventos relacionados con el precio (`dias_en_euforia` y `dias_rebote_fuerte`).\n"
   ]
  },
  {
   "cell_type": "markdown",
   "id": "634ba769",
   "metadata": {},
   "source": [
    "<h4 style=\"color:cyan;\">2.2.2. Factores que afectan al precio</h4>"
   ]
  },
  {
   "cell_type": "markdown",
   "id": "ad912fd6",
   "metadata": {},
   "source": [
    "```python\n",
    "factors = {\n",
    "    \"tipos_interes\": {\"valor\": 0.0, \"peso\": 2.0},\n",
    "    \"inflacion\": {\"valor\": 0.0, \"peso\": 1.5},\n",
    "    \"adopcion_institucional\": {\"valor\": 0.0, \"peso\": 3.0},\n",
    "    \"noticias\": {\"valor\": 0.0, \"peso\": 2.5},\n",
    "    \"regulacion\": {\"valor\": 0.0, \"peso\": 3.0},\n",
    "    \"halving\": {\"valor\": 0.0, \"peso\": 2.5},\n",
    "    \"seguridad_tecnologica\": {\"valor\": 0.0, \"peso\": 1.0},\n",
    "    \"oferta_demanda\": {\"valor\": 0.0, \"peso\": 2.0},\n",
    "    \"sentimiento_mercado\": {\"valor\": 0.0, \"peso\": 2.5}\n",
    "}\n",
    "```\n",
    "\n",
    "#### Que es?\n",
    " - Diccionario de factores economicos y sociales.\n",
    " - Cada uno tiene:\n",
    "    - `valor`: entre -1 y 1 (negativo, neutro o positivo).\n",
    "    - `peso`: cuanto influye ese factor en el clima.\n",
    "\n",
    "#### Intencion\n",
    "Recrear la complejidad del mercado, simulamos variables economicas y sociales que afectan al precio. Asi evitamos un comportamiento completamente aleatorio"
   ]
  },
  {
   "cell_type": "markdown",
   "id": "5703a53c",
   "metadata": {},
   "source": [
    "<h4 style=\"color:cyan;\">2.2.3. Funcion cambiar_factor()</h4>"
   ]
  },
  {
   "cell_type": "markdown",
   "id": "c9fcd4d1",
   "metadata": {},
   "source": [
    "```python\n",
    "def cambiar_factor():\n",
    "    return random.choice([-1.0, 1.0])\n",
    "```\n",
    "\n",
    "Devuelve un nuevo estado aleatorio del factor entre `-1` y `1`, simulando cambios aleatorios en las condiciones del mercado que marcaran fuertemente la subida o bajada del precio del `BitCoin`."
   ]
  },
  {
   "cell_type": "markdown",
   "id": "0b68a62f",
   "metadata": {},
   "source": [
    "<h4 style=\"color:cyan;\">2.2.4. Funcion disipar(valor)</h4>"
   ]
  },
  {
   "cell_type": "markdown",
   "id": "60c240cd",
   "metadata": {},
   "source": [
    "```python\n",
    "def disipar(valor):\n",
    "    if abs(valor) <= disipacion_diaria:\n",
    "        return 0.0\n",
    "    return round(valor - disipacion_diaria, 2) if valor > 0 else round(valor + disipacion_diaria, 2)\n",
    "```\n",
    "\n",
    "Reduce progresivamente la influencia de un factor que no ha cambiado. Simula como el impacto de un evento pierde fuerza con el tiempo."
   ]
  },
  {
   "cell_type": "markdown",
   "id": "a30144e9",
   "metadata": {},
   "source": [
    "<h4 style=\"color:cyan;\">2.2.5. Funcion calcular_clima()</h4>"
   ]
  },
  {
   "cell_type": "markdown",
   "id": "237efaa7",
   "metadata": {},
   "source": [
    "```python\n",
    "def calcular_clima():\n",
    "    return round(sum(f[\"valor\"] * f[\"peso\"] for f in factors.values()), 2)\n",
    "```\n",
    "\n",
    "#### Que hace?\n",
    "Suma todos los factores por su valor para obtener un valor de `clima`.\n",
    "#### Intencion principal:\n",
    "Determinar si el ambiente economico global es positivo o negativo para ver si afecta positiva o negativamente al precio del `BitCoin`"
   ]
  },
  {
   "cell_type": "markdown",
   "id": "849c451e",
   "metadata": {},
   "source": [
    "<h4 style=\"color:cyan;\">2.2.6. Funcion `evaluar_sentimiento_mercado()`</h4>"
   ]
  },
  {
   "cell_type": "markdown",
   "id": "4ec1f093",
   "metadata": {},
   "source": [
    "```python\n",
    "def evaluar_sentimiento_mercado():\n",
    "    global prev_minimo, dias_en_euforia, dias_rebote_fuerte\n",
    "    sentimiento = 0.0\n",
    "\n",
    "    # FOMO/FUD por cambios bruscos\n",
    "    if len(precio_historial) >= dias_buffer:\n",
    "        p_ini = precio_historial[-dias_buffer]\n",
    "        p_actual = precio_historial[-1]\n",
    "        variacion = ((p_actual - p_ini) / p_ini) * 100\n",
    "        if variacion >= 10:\n",
    "            sentimiento += 0.6\n",
    "        elif variacion <= -10:\n",
    "            sentimiento -= 0.6\n",
    "\n",
    "    # Reacciones por maximos y minimos\n",
    "    if len(precio_historial_90d) >= ventana_max_min:\n",
    "        p_actual = precio_historial_90d[-1]\n",
    "        max_90d = max(precio_historial_90d)\n",
    "        min_90d = min(precio_historial_90d)\n",
    "\n",
    "        if p_actual == max_90d and dias_en_euforia == 0:\n",
    "            duracion_euforia = 3\n",
    "            dias_en_euforia = duracion_euforia\n",
    "            print(f\"[INFO] Precio en maximo de 3 meses. Se activa euforia de venta ({duracion_euforia} dias)\")\n",
    "\n",
    "        if prev_minimo is None:\n",
    "            prev_minimo = min_90d\n",
    "        distancia_min = abs(p_actual - min_90d) / min_90d\n",
    "        if distancia_min <= 0.01 and min_90d < prev_minimo:\n",
    "            sentimiento -= 0.7\n",
    "            prev_minimo = min_90d\n",
    "\n",
    "    # Durante dias en euforia\n",
    "    if dias_en_euforia > 0:\n",
    "        dias_en_euforia -= 1\n",
    "        if random.random() < 0.6:\n",
    "            sentimiento -= 0.3\n",
    "            print(f\"[INFO] Dia de venta por euforia. Quedan {dias_en_euforia} dias.\")\n",
    "        else:\n",
    "            sentimiento += 0.2\n",
    "            print(f\"[INFO] Dia de hype por maximos. Quedan {dias_en_euforia} dias.\")\n",
    "\n",
    "    # Rebote por estar infravalorado\n",
    "    if dias_rebote_fuerte > 0:\n",
    "        dias_rebote_fuerte -= 1\n",
    "        sentimiento += 0.6\n",
    "        print(f\"[INFO] Dia de confianza por infravaloracion. Quedan {dias_rebote_fuerte} dias.\")\n",
    "\n",
    "    sentimiento = max(min(sentimiento, 1.0), -1.0)\n",
    "    return round(sentimiento, 2)\n",
    "```\n",
    "#### Que hace?\n",
    "Calcula el sentimiento de mercado segun:\n",
    " - Cambios bruscos (FOMO/FUD).\n",
    " - Euforia al alcanzar maximos (activando `hype` o `venta`).\n",
    " - Rebote por minimos historicos (inversores confian a largo plazo)\n",
    "\n",
    "#### Intencion principal\n",
    "Simular el factor emocional del mercado, asi creamos zonas de sobrecompra/venta, correciones y rebotes."
   ]
  },
  {
   "cell_type": "markdown",
   "id": "8f15c6a1",
   "metadata": {},
   "source": [
    "<h4 style=\"color:cyan;\">2.2.7. Funcion `simular-evento(dia_num)`</h4>"
   ]
  },
  {
   "cell_type": "markdown",
   "id": "efb85de8",
   "metadata": {},
   "source": [
    "```python\n",
    "def simular_evento(dia_num):\n",
    "    global bitcoin_price, max_historico, dias_rebote_fuerte\n",
    "\n",
    "    fecha = (fecha_inicio + timedelta(days=dia_num)).strftime('%Y-%m-%d')\n",
    "\n",
    "    # Sentimiento global\n",
    "    sentimiento_actual = evaluar_sentimiento_mercado()\n",
    "    if sentimiento_actual != 0.0:\n",
    "        factors[\"sentimiento_mercado\"][\"valor\"] = sentimiento_actual\n",
    "\n",
    "    # Actualizacion de factores\n",
    "    for f in factors:\n",
    "        if f == \"sentimiento_mercado\" and sentimiento_actual != 0.0:\n",
    "            continue\n",
    "        if random.random() < 0.1:\n",
    "            factors[f][\"valor\"] = cambiar_factor()\n",
    "        else:\n",
    "            factors[f][\"valor\"] = disipar(factors[f][\"valor\"])\n",
    "\n",
    "    clima = calcular_clima()\n",
    "    influencia = clima / (1 + abs(clima))\n",
    "\n",
    "    base_cambio = random.randint(100, 1000)\n",
    "    ruido = random.randint(-50, 50)\n",
    "    tendencia_largo_plazo = random.randint(2, 5)\n",
    "\n",
    "    cambio = int(base_cambio * influencia) + ruido + tendencia_largo_plazo\n",
    "    bitcoin_price = max(100, bitcoin_price + cambio)\n",
    "\n",
    "    # Guardar en historial\n",
    "    precio_historial.append(bitcoin_price)\n",
    "    precio_historial_90d.append(bitcoin_price)\n",
    "    if len(precio_historial_90d) > ventana_max_min:\n",
    "        precio_historial_90d.pop(0)\n",
    "\n",
    "    # Actualizar maximo historico\n",
    "    if bitcoin_price > max_historico:\n",
    "        max_historico = bitcoin_price\n",
    "\n",
    "    # Activar rebote si cae por debajo del 33% del maximo historico\n",
    "    if bitcoin_price < 0.33 * max_historico and dias_rebote_fuerte == 0:\n",
    "        dias_rebote_fuerte = 5\n",
    "        print(f\"[INFO] Precio extremadamente bajo (${bitcoin_price:.2f}). Se activa rebote por infravaloracion ({dias_rebote_fuerte} dias).\")\n",
    "\n",
    "    mensaje = {\n",
    "    \"timestamp\": fecha,\n",
    "    \"precio_btc\": round(bitcoin_price, 2),\n",
    "    \"cambio\": cambio,\n",
    "    \"clima\": clima,\n",
    "    \"tendencia_largo_plazo\": tendencia_largo_plazo,\n",
    "    \"sentimiento_detectado\": sentimiento_actual,\n",
    "    \"max_historico\": round(max_historico, 2),\n",
    "    \"relacion_con_max\": round(bitcoin_price / max_historico, 4) if max_historico > 0 else 0,\n",
    "    \"dias_en_euforia\": dias_en_euforia,\n",
    "    \"dias_rebote_fuerte\": dias_rebote_fuerte,\n",
    "    \"factores\": {\n",
    "        f: round(data[\"valor\"], 2) for f, data in factors.items()\n",
    "        }\n",
    "    }\n",
    "\n",
    "\n",
    "    return mensaje\n",
    "```\n",
    "Simula el comportamiento diario del `BitCoin`:\n",
    " 1. Avanza la fecha.\n",
    " 2. Evalua el sentimiento emocional del mercado.\n",
    " 3. Actualiza factores.\n",
    " 4. Calcula el cambio del dia (clima + ruido + tendencia).\n",
    " 5. Guarda historial.\n",
    " 6. Detecta maximos y minimos.\n",
    " 7. Genera el mensaje JSON con la informacion.\n",
    "\n",
    "#### Intencion principal\n",
    "Crear un evento diario realista del mercado que pueda ser consumido por sistemas de `Big Data`. Refleja tanto logica economica como emocional."
   ]
  },
  {
   "cell_type": "markdown",
   "id": "6933d14b",
   "metadata": {},
   "source": [
    "<h4 style=\"color:cyan;\">2.2.8. Contenido del mensaje JSON enviado a Kafka</h4>"
   ]
  },
  {
   "cell_type": "markdown",
   "id": "440a51ac",
   "metadata": {},
   "source": [
    "```python\n",
    "mensaje = {\n",
    "    \"timestamp\": fecha,\n",
    "    \"precio_btc\": round(bitcoin_price, 2),\n",
    "    \"cambio\": cambio,\n",
    "    \"clima\": clima,\n",
    "    \"tendencia_largo_plazo\": tendencia_largo_plazo,\n",
    "    \"sentimiento_detectado\": sentimiento_actual,\n",
    "    \"max_historico\": round(max_historico, 2),\n",
    "    \"relacion_con_max\": round(bitcoin_price / max_historico, 4),\n",
    "    \"dias_en_euforia\": dias_en_euforia,\n",
    "    \"dias_rebote_fuerte\": dias_rebote_fuerte,\n",
    "    \"factores\": {\n",
    "        f: round(data[\"valor\"], 2) for f, data in factors.items()\n",
    "    }\n",
    "}\n",
    "```\n",
    "\n",
    "Con esto emitimos el estado completo del mercado en un dia."
   ]
  },
  {
   "cell_type": "markdown",
   "id": "eb28222e",
   "metadata": {},
   "source": [
    "<h4 style=\"color:cyan;\">2.2.9. Bucle principal</h4>"
   ]
  },
  {
   "cell_type": "markdown",
   "id": "2e6d6093",
   "metadata": {},
   "source": [
    "```python\n",
    "dia = 0\n",
    "try:\n",
    "    while True:\n",
    "        mensaje = simular_evento(dia)\n",
    "        producer.send(\"btc_topic\", value=mensaje)\n",
    "        print(f\"Dia {dia} | {mensaje}\")\n",
    "        dia += 1\n",
    "        time.sleep(0.3)\n",
    "```\n",
    "Simula un nuevo dia cada 0.3s y lo envia a Kafka."
   ]
  },
  {
   "cell_type": "markdown",
   "id": "d8ca0b8c",
   "metadata": {},
   "source": [
    "### Por que este metodo?\n",
    "Hemos optado por simular un mercado que siga una logica economica y emocional coherente, en lugar de generar datos completamente aleatorios. Asi creamos un entorno de datos mas realista donde los precios reaccionan a factores externos y donde la IA pueda comprender el comportamiento de nuestro mercado simulado, creemos que asi las predicciones seran mas eficientes."
   ]
  },
  {
   "cell_type": "markdown",
   "id": "5a13bb1f",
   "metadata": {},
   "source": [
    "<h3 style=\"color:darkcyan;\">2.3. Consumidor kafka</h3>\n",
    "\n",
    "Ahora mostraremos el funcionamiento del consumidor kafka, el cual obtiene los datos del productor y los almacena en las bases de datos, pero antes debemos crear previamente las bases de datos donde almacenar los datos, para ello hemos preparado este docker.yml:\n",
    "\n",
    "```yml\n",
    "version: '3.8'\n",
    "services:\n",
    "  postgres:\n",
    "    image: postgres:15\n",
    "    container_name: btc_postgres\n",
    "    restart: always\n",
    "    environment:\n",
    "      POSTGRES_USER: admin\n",
    "      POSTGRES_PASSWORD: admin\n",
    "      POSTGRES_DB: bitcoin\n",
    "    ports:\n",
    "      - \"5432:5432\"\n",
    "    volumes:\n",
    "      - pgdata:/var/lib/postgresql/data\n",
    "\n",
    "  mongo:\n",
    "    image: mongo:6\n",
    "    container_name: btc_mongo\n",
    "    restart: always\n",
    "    ports:\n",
    "      - \"27017:27017\"\n",
    "    volumes:\n",
    "      - mongodata:/data/db\n",
    "\n",
    "volumes:\n",
    "  pgdata:\n",
    "  mongodata:\n",
    "```\n",
    "<h4 style=\"color:cyan;\">2.3.1. Configuracion consumidor</h4>\n",
    "\n",
    "```python\n",
    "from kafka import KafkaConsumer\n",
    "import json\n",
    "import psycopg2\n",
    "from pymongo import MongoClient\n",
    "\n",
    "# Configuración Kafka\n",
    "consumer = KafkaConsumer(\n",
    "    'btc_topic',\n",
    "    bootstrap_servers='185.228.67.7:9092',\n",
    "    auto_offset_reset='latest',\n",
    "    group_id='btc_remoto',\n",
    "    value_deserializer=lambda m: m.decode('utf-8')\n",
    ")\n",
    "# Configuramos los parametros para conectarnos al productor\n",
    "```\n"
   ]
  },
  {
   "cell_type": "markdown",
   "id": "c2442925",
   "metadata": {},
   "source": [
    "<h4 style=\"color:cyan;\">2.3.2. Conexiones a bases de datos</h4>\n",
    "\n",
    "```python\n",
    "# Conexión PostgreSQL\n",
    "pg_conn = psycopg2.connect(dbname=\"bitcoin\", user=\"admin\", password=\"admin\", host=\"localhost\")\n",
    "pg_cursor = pg_conn.cursor()\n",
    "\n",
    "# Conexión MongoDB\n",
    "mongo_client = MongoClient('mongodb://localhost:27017/')\n",
    "mongo_db = mongo_client['bitcoin']\n",
    "mongo_collection = mongo_db['factores']\n",
    "```"
   ]
  },
  {
   "cell_type": "markdown",
   "id": "24388558",
   "metadata": {},
   "source": [
    "<h4 style=\"color:cyan;\">2.3.3. Insertado de registro en las tablas</h4>\n",
    "\n",
    "```python\n",
    "for message in consumer:\n",
    "    data = json.loads(message.value)\n",
    "    \n",
    "    try:\n",
    "        # Insertar en PostgreSQL\n",
    "        pg_cursor.execute(\"\"\"\n",
    "            INSERT INTO btc_data (timestamp, precio_btc, cambio, clima, tendencia_largo_plazo,\n",
    "                                  sentimiento_detectado, max_historico, relacion_con_max,\n",
    "                                  dias_en_euforia, dias_rebote_fuerte)\n",
    "            VALUES (%s, %s, %s, %s, %s, %s, %s, %s, %s, %s)\n",
    "            \"\"\",\n",
    "            (data['timestamp'], data['precio_btc'], data['cambio'], data['clima'],\n",
    "             data['tendencia_largo_plazo'], data['sentimiento_detectado'], data['max_historico'],\n",
    "             data['relacion_con_max'], data['dias_en_euforia'], data['dias_rebote_fuerte'])\n",
    "        )\n",
    "        pg_conn.commit()\n",
    "        print(f\"Registro insertado en PostgreSQL: {data['timestamp']}\")\n",
    "    except Exception as e:\n",
    "        print(f\"Error al insertar en PostgreSQL: {e}\")\n",
    "    \n",
    "    try:\n",
    "        # Insertar en MongoDB el campo \"factores\"\n",
    "        mongo_collection.insert_one({\n",
    "            \"timestamp\": data['timestamp'],\n",
    "            \"factores\": data['factores']\n",
    "        })\n",
    "        print(f\"Registro insertado en MongoDB: {data['timestamp']}\")\n",
    "    except Exception as e:\n",
    "        print(f\"Error al insertar en MongoDB: {e}\")\n",
    "```"
   ]
  },
  {
   "cell_type": "markdown",
   "id": "bfc72af0",
   "metadata": {},
   "source": [
    "<h4 style=\"color:cyan;\">2.3.4. EStructura de PostgreSQL y MongoDB</h4>\n",
    "\n",
    "A continuacion monstramos la estructura de PostgreSQL para los datos estructurados:\n",
    "\n",
    "```sql\n",
    "CREATE TABLE btc_data (\n",
    "    id SERIAL PRIMARY KEY,\n",
    "    timestamp DATE NOT NULL,\n",
    "    precio_btc INTEGER NOT NULL,\n",
    "    cambio INTEGER NOT NULL,\n",
    "    clima REAL NOT NULL,\n",
    "    tendencia_largo_plazo INTEGER NOT NULL,\n",
    "    sentimiento_detectado REAL NOT NULL,\n",
    "    max_historico INTEGER NOT NULL,\n",
    "    relacion_con_max REAL NOT NULL,\n",
    "    dias_en_euforia INTEGER NOT NULL,\n",
    "    dias_rebote_fuerte INTEGER NOT NULL\n",
    ");\n",
    "```\n",
    "Y aqui tenemos la estructura de datos en MOngoDB\n",
    "```json\n",
    "{\n",
    "  \"timestamp\": \"2067-06-12\",\n",
    "  \"factores\": {\n",
    "    \"tipos_interes\": -0.93,\n",
    "    \"inflacion\": -0.93,\n",
    "    \"adopcion_institucional\": 0.0,\n",
    "    \"noticias\": 1.0,\n",
    "    \"regulacion\": -0.51,\n",
    "    \"halving\": 0.72,\n",
    "    \"seguridad_tecnologica\": 0.86,\n",
    "    \"oferta_demanda\": -0.44,\n",
    "    \"sentimiento_mercado\": 0.0\n",
    "  }\n",
    "}\n",
    "```"
   ]
  },
  {
   "cell_type": "markdown",
   "id": "fa4d482e",
   "metadata": {},
   "source": [
    "<h4 style=\"color:cyan;\">2.3.5. Visualización de datos en las BBDD</h4>\n",
    "\n",
    "Una vez estructuradas las bases de datos y ejecutado el código de productor y consumidor, los datos son almacenados en sus respectivas BBDD.\n",
    "\n",
    "Para cada una de ellas , han sido almacenadas en un contenedor docker, podemos visualizar los datos previamente:\n",
    "\n",
    "* Estructura en PostgreSQL\n",
    "<br><br><br>\n",
    "[![Captura-desde-2025-05-21-14-39-04.png](https://i.postimg.cc/8z1dkDNS/Captura-desde-2025-05-21-14-39-04.png)](https://postimg.cc/zVcHpsyt)\n",
    "<br><br><br>\n",
    "* Estructura en MongoDB\n",
    "<br><br><br>\n",
    "[![Captura-desde-2025-05-21-14-39-54.png](https://i.postimg.cc/8zPWQHmk/Captura-desde-2025-05-21-14-39-54.png)](https://postimg.cc/qzSg22FW)\n",
    "<br><br><br>"
   ]
  },
  {
   "cell_type": "markdown",
   "id": "963d4d2c",
   "metadata": {},
   "source": [
    "<h3 style=\"color:darkcyan;\">2.4. Apache nifi</h3>\n",
    "\n",
    "Una vez tengamos los datos almacenados, es hora de aplicar ELT, transformarlos y aplanarlos para poder obtener un archivo y poder entrenar nuestro algoritmo"
   ]
  },
  {
   "cell_type": "markdown",
   "id": "577c3121",
   "metadata": {},
   "source": [
    "<h4 style=\"color:cyan;\">2.4.1. Conexiones a BBDD</h4>"
   ]
  },
  {
   "cell_type": "markdown",
   "id": "3690d88f",
   "metadata": {},
   "source": [
    "* Para empezar, creamos un nuevo proceso en nifi y configuramos las conexiones a las BBDD como tenemos en la imagen inferior, en nuestro caso configuramos con los datos e acceso que hemos creado en nuestras imagenes de docker.\n",
    "\n",
    "* Tambien configuramos los distintos procesos que enseñaremos posteriormente en la estructura que hemos usado\n",
    "\n",
    "[![image.png](https://i.postimg.cc/DzqK0dMY/image.png)](https://postimg.cc/VSLhHM1j)"
   ]
  },
  {
   "cell_type": "markdown",
   "id": "241c2bf1",
   "metadata": {},
   "source": [
    "<h4 style=\"color:cyan;\">2.4.2. Estructura de proceso</h4>"
   ]
  },
  {
   "cell_type": "markdown",
   "id": "77fb26eb",
   "metadata": {},
   "source": [
    "Para nuestra estructura, necesitamos que los datos sean obtenidos de las 2 bases de datos (PostgreSQL para datos estructurados y MongoDB para factores que puedan variar) y posteriormente juntarlos y obtener un archivo único con para la elaboración de los modelos ML.\n",
    "\n",
    "El orden de proceso que hemos usado son los siguientes:\n",
    "\n",
    "* GetMongo\n",
    "\n",
    " Extrae los registros desde la colección de MongoDB.\n",
    "\n",
    " * ForkEnrichment\n",
    "\n",
    " Divide los datos en dos rutas: Una se va a JoinEnrichment y otra se va a la rama de enriquecimiento SQL (splits → SplitRecord).\n",
    "\n",
    "* ExecuteSQLRecord\n",
    "\n",
    "Ejecuta una consulta SQL para obtener los factores del bitcoin para posteriormente unirlos a los datos de MongoDB.\n",
    "\n",
    "* SplitRecord\n",
    "\n",
    "Divide el resultado del SQL en registros individuales para que puedan ser procesados por separado.\n",
    "\n",
    "* JoinEnrichment\n",
    "\n",
    "Une los datos originales de MongoDB con los factores obtenidos de PostgreSQL a través de la fecha.\n",
    "\n",
    "* MergeRecord\n",
    "\n",
    "Agrupa todos los registros enriquecidos en una sola estructura Json.\n",
    "\n",
    "* PutFile\n",
    "\n",
    "Guarda el resultado final en un archivo local en formato .cvs (posibilidad de modificar formato)."
   ]
  },
  {
   "cell_type": "markdown",
   "id": "ad626dea",
   "metadata": {},
   "source": [
    "[![image2.png](https://i.postimg.cc/KjYX9Xvd/image2.png)](https://postimg.cc/0MhHQBSf)\n",
    "\n",
    "Una vez realizado el proceso, obtendremos un archivo .csv con todos los registros listos para tratar, analizar y ser usado para ML de forma local."
   ]
  }
 ],
 "metadata": {
  "kernelspec": {
   "display_name": ".venv",
   "language": "python",
   "name": "python3"
  },
  "language_info": {
   "name": "python",
   "version": "3.12.3"
  }
 },
 "nbformat": 4,
 "nbformat_minor": 5
}
